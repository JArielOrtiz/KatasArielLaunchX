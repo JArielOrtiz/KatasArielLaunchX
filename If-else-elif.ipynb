{
 "cells": [
  {
   "cell_type": "markdown",
   "metadata": {},
   "source": [
    "Para este ejercicio, escribirás una lógica condicional que imprima una advertencia si un asteroide se acerca a la Tierra demasiado rápido. La velocidad del asteroide varía dependiendo de lo cerca que esté del sol, y cualquier velocidad superior a 25 kilómetros por segundo (km/s) merece una advertencia.\n",
    "\n",
    "Un asteroide se acerca, y viaja a una velocidad de 49 km/s."
   ]
  },
  {
   "cell_type": "code",
   "execution_count": 1,
   "metadata": {},
   "outputs": [
    {
     "name": "stdout",
     "output_type": "stream",
     "text": [
      "¡Un asteroide se acerca a la Tierra demasiado rápido!\n"
     ]
    }
   ],
   "source": [
    "#Añadir el código necesario para crear una variable que guarde la velocidad del asteroide.\n",
    "#Escribe una expresión de prueba para calcular si necesita una advertencia.\n",
    "#Agregue las instrucciones que se ejecutarán si la expresión de prueba es true o false.\n",
    "\n",
    "#declaramos nuestra variable\n",
    "v_asteroide = 49\n",
    "\n",
    "#creamos nuestra funcion if en donde si se cumple la condicion pasa algo y si no se cumple pasa otra cosa\n",
    "if v_asteroide > 25:\n",
    "    print('¡Un asteroide se acerca a la Tierra demasiado rápido!')\n",
    "    \n",
    "else:\n",
    "    print('No hay ningún asteroide acercándose a la Tierra demasiado rápido')"
   ]
  },
  {
   "cell_type": "markdown",
   "metadata": {},
   "source": [
    "Si un asteroide entra en la atmósfera de la Tierra a una velocidad mayor o igual a 20 km/s, a veces produce un rayo de luz que se puede ver desde la Tierra. Escribe la lógica condicional que usa declaraciones if, else, y elif para alertar a las personas de todo el mundo que deben buscar un asteroide en el cielo. ¡Hay uno que se dirige a la tierra ahora a una velocidad de 19 km/s!"
   ]
  },
  {
   "cell_type": "code",
   "execution_count": 2,
   "metadata": {},
   "outputs": [
    {
     "name": "stdout",
     "output_type": "stream",
     "text": [
      "No hay ningún asteroide que deban buscar en el cielo\n"
     ]
    }
   ],
   "source": [
    "# Agrega el código para crear una variable para un asteroide que viaja a 19 km/s\n",
    "# Escribe varias expresiones de prueba para determinar si puedes ver el rayo de luz desde la tierra\n",
    "# Agrega las instrucciones que se ejecutarán si las expresiones de prueba son True o False\n",
    "\n",
    "#declaramos nuestra variable\n",
    "asteroide = 19\n",
    "\n",
    "#como debemos usar if elif y else, podemos separar el \">=20\" en \">20\" e \"==20\" para poder usarlos\n",
    "if asteroide > 20:\n",
    "    print('Deben buscar un asteroide en el cielo')\n",
    "elif asteroide == 20:\n",
    "    print('Deben buscar un asteroide en el cielo')\n",
    "\n",
    "else:\n",
    "    print('No hay ningún asteroide que deban buscar en el cielo')"
   ]
  },
  {
   "cell_type": "markdown",
   "metadata": {},
   "source": [
    "*Los asteroides de menos de 25 metros en su dimensión más grande probablemente se quemarán a medida que entren en la atmósfera de la Tierra.\n",
    "\n",
    "Si una pieza de un asteroide que es más grande que 25 metros pero más pequeña que 1000 metros golpeara la Tierra, causaría mucho daño.\n",
    "También discutimos en el ejercicio anterior que:\n",
    "\n",
    "La velocidad del asteroide varía en función de lo cerca que esté del sol, y cualquier velocidad superior a 25 kilómetros por segundo (km/s) merece una advertencia.\n",
    "Si un asteroide entra en la atmósfera de la Tierra a una velocidad mayor o igual a 20 km/s, a veces produce un rayo de luz que se puede ver desde la Tierra.\n",
    "Usando toda esta información, escribe un programa que emita la advertencia o información correcta a la gente de la Tierra, según la velocidad y el tamaño de un asteroide. Utiliza instrucciones if, else, y elif, así como los operadores and y or."
   ]
  },
  {
   "cell_type": "code",
   "execution_count": 10,
   "metadata": {},
   "outputs": [
    {
     "name": "stdout",
     "output_type": "stream",
     "text": [
      "¡Hay un asteroide acercándose a la Tierra que puede ser muy peligroso!\n",
      "¡Se puede ver un asteroide en el cielo!\n"
     ]
    }
   ],
   "source": [
    "# Agrega el código para crear nuevas variables para la velocidad y el tamaño del asteroide\n",
    "# Para probar el código, prueba con varias velocidades y tamaños\n",
    "# Escribe varias expresiones de prueba o combinaciones de expresiones de prueba para determinar qué mensaje se debe enviar a Tierra.\n",
    "\n",
    "#declaramos las variables a usar\n",
    "vel_ast = 50\n",
    "tam_ast = 200\n",
    "\n",
    "if tam_ast > 25 and tam_ast < 1000 or vel_ast > 25:\n",
    "    print('¡Hay un asteroide acercándose a la Tierra que puede ser muy peligroso!')\n",
    "elif tam_ast >= 1000:\n",
    "    print('¡Hay un asteroide demasiado grande acercándose a la Tierra y puede ser muy peligroso!')\n",
    "if vel_ast >= 20:\n",
    "    print('¡Se puede ver un asteroide en el cielo!')\n",
    "else:\n",
    "    print('No hay ningún rayo de luz producido por un asteroide que puedas ver desde la Tierra')\n"
   ]
  }
 ],
 "metadata": {
  "interpreter": {
   "hash": "c0a2142445e71bd8c67e10b8fb0037f90d13cc618804becf02df3b55d5d7d23f"
  },
  "kernelspec": {
   "display_name": "Python 3.10.2 64-bit",
   "language": "python",
   "name": "python3"
  },
  "language_info": {
   "codemirror_mode": {
    "name": "ipython",
    "version": 3
   },
   "file_extension": ".py",
   "mimetype": "text/x-python",
   "name": "python",
   "nbconvert_exporter": "python",
   "pygments_lexer": "ipython3",
   "version": "3.10.2"
  },
  "orig_nbformat": 4
 },
 "nbformat": 4,
 "nbformat_minor": 2
}
